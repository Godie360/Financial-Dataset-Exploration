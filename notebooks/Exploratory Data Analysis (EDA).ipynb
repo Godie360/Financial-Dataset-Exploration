{
 "cells": [
  {
   "cell_type": "markdown",
   "id": "c35ed43e",
   "metadata": {},
   "source": [
    "## <center> Explolatory Data Analysis on how  Salres and Profit varies Countries or market Segment</center>"
   ]
  },
  {
   "cell_type": "markdown",
   "id": "1ed293fb",
   "metadata": {},
   "source": [
    "### The Problem Statement\n",
    "mos\n",
    "\n"
   ]
  },
  {
   "cell_type": "code",
   "execution_count": null,
   "id": "c6716f43",
   "metadata": {},
   "outputs": [],
   "source": []
  },
  {
   "cell_type": "code",
   "execution_count": null,
   "id": "2c5f6fb2-36d2-40bf-9a3f-2f4481fca264",
   "metadata": {},
   "outputs": [],
   "source": []
  }
 ],
 "metadata": {
  "kernelspec": {
   "display_name": "Python 3 (ipykernel)",
   "language": "python",
   "name": "python3"
  },
  "language_info": {
   "codemirror_mode": {
    "name": "ipython",
    "version": 3
   },
   "file_extension": ".py",
   "mimetype": "text/x-python",
   "name": "python",
   "nbconvert_exporter": "python",
   "pygments_lexer": "ipython3",
   "version": "3.10.7"
  }
 },
 "nbformat": 4,
 "nbformat_minor": 5
}
